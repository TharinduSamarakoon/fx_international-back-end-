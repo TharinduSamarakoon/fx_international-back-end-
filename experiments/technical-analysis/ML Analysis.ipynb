{
 "cells": [
  {
   "cell_type": "code",
   "execution_count": 1,
   "id": "4607c5aa-f7af-4b97-8fe3-3d6b1bcce6b6",
   "metadata": {},
   "outputs": [],
   "source": [
    "import pandas as pd\n",
    "import numpy as np"
   ]
  },
  {
   "cell_type": "code",
   "execution_count": 2,
   "id": "d9bf730b-63f9-4911-8a84-ebea4174177f",
   "metadata": {},
   "outputs": [],
   "source": [
    "batch_size = 32\n",
    "window_size = int(256) \n",
    "validation_size = 128 * batch_size \n",
    "test_size = 128 * batch_size \n",
    "ma_periods = 2 \n",
    "ticker = 'eurusd' \n",
    "start_date = '2012-01-01' \n",
    "seed = 42\n",
    "model_path = f'{ticker}-{batch_size}-{window_size}-{ma_periods}'\n",
    "scaler_path = f'{ticker}-{batch_size}-{window_size}-{ma_periods}.bin'\n",
    "full_time_series_path = f'{ticker}.csv'\n",
    "train_time_series_path = f'{ticker}-train.csv'\n",
    "validate_time_series_path = f'{ticker}-validate.csv'\n",
    "test_time_series_path = f'{ticker}-test.csv'"
   ]
  },
  {
   "cell_type": "code",
   "execution_count": 3,
   "id": "49fda79e-5ecd-4581-855b-d1893d88c2cc",
   "metadata": {},
   "outputs": [
    {
     "data": {
      "text/html": [
       "<div>\n",
       "<style scoped>\n",
       "    .dataframe tbody tr th:only-of-type {\n",
       "        vertical-align: middle;\n",
       "    }\n",
       "\n",
       "    .dataframe tbody tr th {\n",
       "        vertical-align: top;\n",
       "    }\n",
       "\n",
       "    .dataframe thead th {\n",
       "        text-align: right;\n",
       "    }\n",
       "</style>\n",
       "<table border=\"1\" class=\"dataframe\">\n",
       "  <thead>\n",
       "    <tr style=\"text-align: right;\">\n",
       "      <th></th>\n",
       "      <th>High</th>\n",
       "      <th>Low</th>\n",
       "    </tr>\n",
       "    <tr>\n",
       "      <th>Date</th>\n",
       "      <th></th>\n",
       "      <th></th>\n",
       "    </tr>\n",
       "  </thead>\n",
       "  <tbody>\n",
       "    <tr>\n",
       "      <th>2022-04-13 21:15:00</th>\n",
       "      <td>1.08930</td>\n",
       "      <td>1.08600</td>\n",
       "    </tr>\n",
       "    <tr>\n",
       "      <th>2022-04-13 22:00:00</th>\n",
       "      <td>1.08920</td>\n",
       "      <td>1.08865</td>\n",
       "    </tr>\n",
       "    <tr>\n",
       "      <th>2022-04-13 23:00:00</th>\n",
       "      <td>1.08975</td>\n",
       "      <td>1.08890</td>\n",
       "    </tr>\n",
       "    <tr>\n",
       "      <th>2022-04-14 00:00:00</th>\n",
       "      <td>1.09000</td>\n",
       "      <td>1.08825</td>\n",
       "    </tr>\n",
       "    <tr>\n",
       "      <th>2022-04-14 01:00:00</th>\n",
       "      <td>1.09085</td>\n",
       "      <td>1.08825</td>\n",
       "    </tr>\n",
       "    <tr>\n",
       "      <th>...</th>\n",
       "      <td>...</td>\n",
       "      <td>...</td>\n",
       "    </tr>\n",
       "    <tr>\n",
       "      <th>2022-04-15 16:00:00</th>\n",
       "      <td>1.08100</td>\n",
       "      <td>1.08060</td>\n",
       "    </tr>\n",
       "    <tr>\n",
       "      <th>2022-04-15 17:00:00</th>\n",
       "      <td>1.08115</td>\n",
       "      <td>1.08045</td>\n",
       "    </tr>\n",
       "    <tr>\n",
       "      <th>2022-04-15 18:00:00</th>\n",
       "      <td>1.08110</td>\n",
       "      <td>1.08075</td>\n",
       "    </tr>\n",
       "    <tr>\n",
       "      <th>2022-04-15 19:00:00</th>\n",
       "      <td>1.08110</td>\n",
       "      <td>1.08070</td>\n",
       "    </tr>\n",
       "    <tr>\n",
       "      <th>2022-04-15 20:00:00</th>\n",
       "      <td>1.08145</td>\n",
       "      <td>1.08070</td>\n",
       "    </tr>\n",
       "  </tbody>\n",
       "</table>\n",
       "<p>47088 rows × 2 columns</p>\n",
       "</div>"
      ],
      "text/plain": [
       "                        High      Low\n",
       "Date                                 \n",
       "2022-04-13 21:15:00  1.08930  1.08600\n",
       "2022-04-13 22:00:00  1.08920  1.08865\n",
       "2022-04-13 23:00:00  1.08975  1.08890\n",
       "2022-04-14 00:00:00  1.09000  1.08825\n",
       "2022-04-14 01:00:00  1.09085  1.08825\n",
       "...                      ...      ...\n",
       "2022-04-15 16:00:00  1.08100  1.08060\n",
       "2022-04-15 17:00:00  1.08115  1.08045\n",
       "2022-04-15 18:00:00  1.08110  1.08075\n",
       "2022-04-15 19:00:00  1.08110  1.08070\n",
       "2022-04-15 20:00:00  1.08145  1.08070\n",
       "\n",
       "[47088 rows x 2 columns]"
      ]
     },
     "execution_count": 3,
     "metadata": {},
     "output_type": "execute_result"
    }
   ],
   "source": [
    "df_csv = pd.read_csv(full_time_series_path, usecols=['Date','High','Low'], \n",
    "    index_col=['Date'], parse_dates=['Date'])\n",
    "df = df_csv[df_csv.index >= pd.to_datetime(start_date)]\n",
    "df"
   ]
  },
  {
   "cell_type": "code",
   "execution_count": 4,
   "id": "8643312b-8d7c-4525-876d-9c29c9968202",
   "metadata": {},
   "outputs": [
    {
     "data": {
      "text/html": [
       "<div>\n",
       "<style scoped>\n",
       "    .dataframe tbody tr th:only-of-type {\n",
       "        vertical-align: middle;\n",
       "    }\n",
       "\n",
       "    .dataframe tbody tr th {\n",
       "        vertical-align: top;\n",
       "    }\n",
       "\n",
       "    .dataframe thead th {\n",
       "        text-align: right;\n",
       "    }\n",
       "</style>\n",
       "<table border=\"1\" class=\"dataframe\">\n",
       "  <thead>\n",
       "    <tr style=\"text-align: right;\">\n",
       "      <th></th>\n",
       "      <th>HLAvg</th>\n",
       "      <th>MA</th>\n",
       "      <th>Returns</th>\n",
       "    </tr>\n",
       "    <tr>\n",
       "      <th>Date</th>\n",
       "      <th></th>\n",
       "      <th></th>\n",
       "      <th></th>\n",
       "    </tr>\n",
       "  </thead>\n",
       "  <tbody>\n",
       "    <tr>\n",
       "      <th>2022-04-13 21:15:00</th>\n",
       "      <td>1.087650</td>\n",
       "      <td>NaN</td>\n",
       "      <td>NaN</td>\n",
       "    </tr>\n",
       "    <tr>\n",
       "      <th>2022-04-13 22:00:00</th>\n",
       "      <td>1.088925</td>\n",
       "      <td>1.088287</td>\n",
       "      <td>NaN</td>\n",
       "    </tr>\n",
       "    <tr>\n",
       "      <th>2022-04-13 23:00:00</th>\n",
       "      <td>1.089325</td>\n",
       "      <td>1.089125</td>\n",
       "      <td>0.000769</td>\n",
       "    </tr>\n",
       "    <tr>\n",
       "      <th>2022-04-14 00:00:00</th>\n",
       "      <td>1.089125</td>\n",
       "      <td>1.089225</td>\n",
       "      <td>0.000092</td>\n",
       "    </tr>\n",
       "    <tr>\n",
       "      <th>2022-04-14 01:00:00</th>\n",
       "      <td>1.089550</td>\n",
       "      <td>1.089338</td>\n",
       "      <td>0.000103</td>\n",
       "    </tr>\n",
       "    <tr>\n",
       "      <th>2022-04-14 02:00:00</th>\n",
       "      <td>1.090500</td>\n",
       "      <td>1.090025</td>\n",
       "      <td>0.000631</td>\n",
       "    </tr>\n",
       "    <tr>\n",
       "      <th>2022-04-14 03:00:00</th>\n",
       "      <td>1.090575</td>\n",
       "      <td>1.090537</td>\n",
       "      <td>0.000470</td>\n",
       "    </tr>\n",
       "    <tr>\n",
       "      <th>2022-04-14 04:00:00</th>\n",
       "      <td>1.090825</td>\n",
       "      <td>1.090700</td>\n",
       "      <td>0.000149</td>\n",
       "    </tr>\n",
       "    <tr>\n",
       "      <th>2022-04-14 05:00:00</th>\n",
       "      <td>1.091375</td>\n",
       "      <td>1.091100</td>\n",
       "      <td>0.000367</td>\n",
       "    </tr>\n",
       "    <tr>\n",
       "      <th>2022-04-14 06:00:00</th>\n",
       "      <td>1.091675</td>\n",
       "      <td>1.091525</td>\n",
       "      <td>0.000389</td>\n",
       "    </tr>\n",
       "    <tr>\n",
       "      <th>2022-04-14 07:00:00</th>\n",
       "      <td>1.091150</td>\n",
       "      <td>1.091412</td>\n",
       "      <td>-0.000103</td>\n",
       "    </tr>\n",
       "    <tr>\n",
       "      <th>2022-04-14 08:00:00</th>\n",
       "      <td>1.090775</td>\n",
       "      <td>1.090962</td>\n",
       "      <td>-0.000412</td>\n",
       "    </tr>\n",
       "    <tr>\n",
       "      <th>2022-04-14 09:00:00</th>\n",
       "      <td>1.090950</td>\n",
       "      <td>1.090863</td>\n",
       "      <td>-0.000092</td>\n",
       "    </tr>\n",
       "    <tr>\n",
       "      <th>2022-04-14 10:00:00</th>\n",
       "      <td>1.090925</td>\n",
       "      <td>1.090937</td>\n",
       "      <td>0.000069</td>\n",
       "    </tr>\n",
       "    <tr>\n",
       "      <th>2022-04-14 11:00:00</th>\n",
       "      <td>1.088975</td>\n",
       "      <td>1.089950</td>\n",
       "      <td>-0.000906</td>\n",
       "    </tr>\n",
       "  </tbody>\n",
       "</table>\n",
       "</div>"
      ],
      "text/plain": [
       "                        HLAvg        MA   Returns\n",
       "Date                                             \n",
       "2022-04-13 21:15:00  1.087650       NaN       NaN\n",
       "2022-04-13 22:00:00  1.088925  1.088287       NaN\n",
       "2022-04-13 23:00:00  1.089325  1.089125  0.000769\n",
       "2022-04-14 00:00:00  1.089125  1.089225  0.000092\n",
       "2022-04-14 01:00:00  1.089550  1.089338  0.000103\n",
       "2022-04-14 02:00:00  1.090500  1.090025  0.000631\n",
       "2022-04-14 03:00:00  1.090575  1.090537  0.000470\n",
       "2022-04-14 04:00:00  1.090825  1.090700  0.000149\n",
       "2022-04-14 05:00:00  1.091375  1.091100  0.000367\n",
       "2022-04-14 06:00:00  1.091675  1.091525  0.000389\n",
       "2022-04-14 07:00:00  1.091150  1.091412 -0.000103\n",
       "2022-04-14 08:00:00  1.090775  1.090962 -0.000412\n",
       "2022-04-14 09:00:00  1.090950  1.090863 -0.000092\n",
       "2022-04-14 10:00:00  1.090925  1.090937  0.000069\n",
       "2022-04-14 11:00:00  1.088975  1.089950 -0.000906"
      ]
     },
     "execution_count": 4,
     "metadata": {},
     "output_type": "execute_result"
    }
   ],
   "source": [
    "df[\"HLAvg\"] = df['High'].add(df['Low']).div(2)\n",
    "del df['High']\n",
    "del df['Low']\n",
    "df['MA'] = df['HLAvg'].rolling(window=ma_periods).mean()\n",
    "df['Returns'] = np.log(df['MA']/df['MA'].shift(1))\n",
    "df.head(15)"
   ]
  },
  {
   "cell_type": "code",
   "execution_count": 5,
   "id": "af98148f-070d-4dc8-8b5f-08d5547688e0",
   "metadata": {},
   "outputs": [
    {
     "data": {
      "text/html": [
       "<div>\n",
       "<style scoped>\n",
       "    .dataframe tbody tr th:only-of-type {\n",
       "        vertical-align: middle;\n",
       "    }\n",
       "\n",
       "    .dataframe tbody tr th {\n",
       "        vertical-align: top;\n",
       "    }\n",
       "\n",
       "    .dataframe thead th {\n",
       "        text-align: right;\n",
       "    }\n",
       "</style>\n",
       "<table border=\"1\" class=\"dataframe\">\n",
       "  <thead>\n",
       "    <tr style=\"text-align: right;\">\n",
       "      <th></th>\n",
       "      <th>HLAvg</th>\n",
       "      <th>MA</th>\n",
       "      <th>Returns</th>\n",
       "    </tr>\n",
       "    <tr>\n",
       "      <th>Date</th>\n",
       "      <th></th>\n",
       "      <th></th>\n",
       "      <th></th>\n",
       "    </tr>\n",
       "  </thead>\n",
       "  <tbody>\n",
       "    <tr>\n",
       "      <th>2022-04-14 13:00:00</th>\n",
       "      <td>1.080325</td>\n",
       "      <td>1.083512</td>\n",
       "      <td>-0.003984</td>\n",
       "    </tr>\n",
       "    <tr>\n",
       "      <th>2022-04-14 14:00:00</th>\n",
       "      <td>1.078375</td>\n",
       "      <td>1.079350</td>\n",
       "      <td>-0.003849</td>\n",
       "    </tr>\n",
       "    <tr>\n",
       "      <th>2022-04-14 15:00:00</th>\n",
       "      <td>1.079550</td>\n",
       "      <td>1.078962</td>\n",
       "      <td>-0.000359</td>\n",
       "    </tr>\n",
       "    <tr>\n",
       "      <th>2022-04-14 16:00:00</th>\n",
       "      <td>1.081300</td>\n",
       "      <td>1.080425</td>\n",
       "      <td>0.001355</td>\n",
       "    </tr>\n",
       "    <tr>\n",
       "      <th>2022-04-14 17:00:00</th>\n",
       "      <td>1.081775</td>\n",
       "      <td>1.081538</td>\n",
       "      <td>0.001029</td>\n",
       "    </tr>\n",
       "    <tr>\n",
       "      <th>...</th>\n",
       "      <td>...</td>\n",
       "      <td>...</td>\n",
       "      <td>...</td>\n",
       "    </tr>\n",
       "    <tr>\n",
       "      <th>2022-04-15 16:00:00</th>\n",
       "      <td>1.080800</td>\n",
       "      <td>1.080800</td>\n",
       "      <td>-0.000035</td>\n",
       "    </tr>\n",
       "    <tr>\n",
       "      <th>2022-04-15 17:00:00</th>\n",
       "      <td>1.080800</td>\n",
       "      <td>1.080800</td>\n",
       "      <td>0.000000</td>\n",
       "    </tr>\n",
       "    <tr>\n",
       "      <th>2022-04-15 18:00:00</th>\n",
       "      <td>1.080925</td>\n",
       "      <td>1.080863</td>\n",
       "      <td>0.000058</td>\n",
       "    </tr>\n",
       "    <tr>\n",
       "      <th>2022-04-15 19:00:00</th>\n",
       "      <td>1.080900</td>\n",
       "      <td>1.080913</td>\n",
       "      <td>0.000046</td>\n",
       "    </tr>\n",
       "    <tr>\n",
       "      <th>2022-04-15 20:00:00</th>\n",
       "      <td>1.081075</td>\n",
       "      <td>1.080987</td>\n",
       "      <td>0.000069</td>\n",
       "    </tr>\n",
       "  </tbody>\n",
       "</table>\n",
       "<p>47072 rows × 3 columns</p>\n",
       "</div>"
      ],
      "text/plain": [
       "                        HLAvg        MA   Returns\n",
       "Date                                             \n",
       "2022-04-14 13:00:00  1.080325  1.083512 -0.003984\n",
       "2022-04-14 14:00:00  1.078375  1.079350 -0.003849\n",
       "2022-04-14 15:00:00  1.079550  1.078962 -0.000359\n",
       "2022-04-14 16:00:00  1.081300  1.080425  0.001355\n",
       "2022-04-14 17:00:00  1.081775  1.081538  0.001029\n",
       "...                       ...       ...       ...\n",
       "2022-04-15 16:00:00  1.080800  1.080800 -0.000035\n",
       "2022-04-15 17:00:00  1.080800  1.080800  0.000000\n",
       "2022-04-15 18:00:00  1.080925  1.080863  0.000058\n",
       "2022-04-15 19:00:00  1.080900  1.080913  0.000046\n",
       "2022-04-15 20:00:00  1.081075  1.080987  0.000069\n",
       "\n",
       "[47072 rows x 3 columns]"
      ]
     },
     "execution_count": 5,
     "metadata": {},
     "output_type": "execute_result"
    }
   ],
   "source": [
    "df.dropna(how='any', inplace=True)\n",
    "df = df[df.shape[0] % batch_size:]\n",
    "df"
   ]
  },
  {
   "cell_type": "code",
   "execution_count": 6,
   "id": "e20a70fd-dec3-499f-ac43-3e23baf2b7bd",
   "metadata": {},
   "outputs": [
    {
     "name": "stdout",
     "output_type": "stream",
     "text": [
      "df_train.shape (38880, 3), df_validation.shape (4352, 3), df_test.shape (4352, 3)\n"
     ]
    }
   ],
   "source": [
    "df_train = df[:- validation_size - test_size]\n",
    "df_validation = df[- validation_size - test_size - window_size:- test_size]\n",
    "df_test = df[- test_size - window_size:]\n",
    "print(f'df_train.shape {df_train.shape}, df_validation.shape {df_validation.shape}, df_test.shape {df_test.shape}')"
   ]
  },
  {
   "cell_type": "code",
   "execution_count": 7,
   "id": "c316cbac-1eae-4f9f-be79-69b9a328f421",
   "metadata": {},
   "outputs": [],
   "source": [
    "df_train.to_csv(train_time_series_path)\n",
    "df_validation.to_csv(validate_time_series_path)\n",
    "df_test.to_csv(test_time_series_path)"
   ]
  },
  {
   "cell_type": "code",
   "execution_count": 8,
   "id": "6d5293e5-788a-4d98-93de-3abd5d036c40",
   "metadata": {},
   "outputs": [
    {
     "name": "stderr",
     "output_type": "stream",
     "text": [
      "2022-04-20 08:26:15.903242: I tensorflow/stream_executor/platform/default/dso_loader.cc:49] Successfully opened dynamic library libcudart.so.11.0\n"
     ]
    }
   ],
   "source": [
    "import pandas as pd\n",
    "import numpy as np\n",
    "import matplotlib.pyplot as plt\n",
    "import joblib\n",
    "from sklearn.preprocessing import MinMaxScaler\n",
    "import tensorflow as tf\n",
    "from tensorflow.keras.models import Sequential, save_model\n",
    "from tensorflow.keras.layers import LSTM, Dropout, Dense\n",
    "from tensorflow.keras.optimizers import Adam\n",
    "from tensorflow.keras.callbacks import EarlyStopping"
   ]
  },
  {
   "cell_type": "code",
   "execution_count": 9,
   "id": "aedd7323-8d07-420e-9d1b-50fb59020639",
   "metadata": {},
   "outputs": [],
   "source": [
    "def get_train(values, window_size):\n",
    "    X, y = [], []\n",
    "    len_values = len(values)\n",
    "    for i in range(window_size, len_values):\n",
    "        X.append(values[i-window_size:i])\n",
    "        y.append(values[i])\n",
    "    X, y = np.asarray(X), np.asarray(y)\n",
    "    X = np.reshape(X, (X.shape[0], X.shape[1], 1))\n",
    "    print(f\"X {X.shape}, y {y.shape}\")\n",
    "    return X, y\n",
    "\n",
    "def get_val(values, window_size):\n",
    "    X = []\n",
    "    len_values = len(values)\n",
    "    for i in range(window_size, len_values):\n",
    "        X.append(values[i-window_size:i])\n",
    "    X = np.asarray(X)\n",
    "    X = np.reshape(X, (X.shape[0], X.shape[1], 1))\n",
    "    y = values[-X.shape[0]:]\n",
    "    print(f\"X {X.shape}, y {y.shape}\")\n",
    "    return X, y"
   ]
  },
  {
   "cell_type": "code",
   "execution_count": 10,
   "id": "c2147b1b-a985-4239-af94-ec745ad8ee7d",
   "metadata": {},
   "outputs": [],
   "source": [
    "epochs = 20\n",
    "np.random.seed(seed)\n",
    "tf.random.set_seed(seed)"
   ]
  },
  {
   "cell_type": "code",
   "execution_count": 11,
   "id": "4440c3f5-0a9b-49da-91f9-ab76a331d9f0",
   "metadata": {},
   "outputs": [
    {
     "data": {
      "text/html": [
       "<div>\n",
       "<style scoped>\n",
       "    .dataframe tbody tr th:only-of-type {\n",
       "        vertical-align: middle;\n",
       "    }\n",
       "\n",
       "    .dataframe tbody tr th {\n",
       "        vertical-align: top;\n",
       "    }\n",
       "\n",
       "    .dataframe thead th {\n",
       "        text-align: right;\n",
       "    }\n",
       "</style>\n",
       "<table border=\"1\" class=\"dataframe\">\n",
       "  <thead>\n",
       "    <tr style=\"text-align: right;\">\n",
       "      <th></th>\n",
       "      <th>HLAvg</th>\n",
       "      <th>MA</th>\n",
       "      <th>Returns</th>\n",
       "    </tr>\n",
       "    <tr>\n",
       "      <th>Date</th>\n",
       "      <th></th>\n",
       "      <th></th>\n",
       "      <th></th>\n",
       "    </tr>\n",
       "  </thead>\n",
       "  <tbody>\n",
       "    <tr>\n",
       "      <th>2022-04-14 13:00:00</th>\n",
       "      <td>1.080325</td>\n",
       "      <td>1.083513</td>\n",
       "      <td>-0.003984</td>\n",
       "    </tr>\n",
       "    <tr>\n",
       "      <th>2022-04-14 14:00:00</th>\n",
       "      <td>1.078375</td>\n",
       "      <td>1.079350</td>\n",
       "      <td>-0.003849</td>\n",
       "    </tr>\n",
       "    <tr>\n",
       "      <th>2022-04-14 15:00:00</th>\n",
       "      <td>1.079550</td>\n",
       "      <td>1.078962</td>\n",
       "      <td>-0.000359</td>\n",
       "    </tr>\n",
       "    <tr>\n",
       "      <th>2022-04-14 16:00:00</th>\n",
       "      <td>1.081300</td>\n",
       "      <td>1.080425</td>\n",
       "      <td>0.001355</td>\n",
       "    </tr>\n",
       "    <tr>\n",
       "      <th>2022-04-14 17:00:00</th>\n",
       "      <td>1.081775</td>\n",
       "      <td>1.081538</td>\n",
       "      <td>0.001029</td>\n",
       "    </tr>\n",
       "  </tbody>\n",
       "</table>\n",
       "</div>"
      ],
      "text/plain": [
       "                        HLAvg        MA   Returns\n",
       "Date                                             \n",
       "2022-04-14 13:00:00  1.080325  1.083513 -0.003984\n",
       "2022-04-14 14:00:00  1.078375  1.079350 -0.003849\n",
       "2022-04-14 15:00:00  1.079550  1.078962 -0.000359\n",
       "2022-04-14 16:00:00  1.081300  1.080425  0.001355\n",
       "2022-04-14 17:00:00  1.081775  1.081538  0.001029"
      ]
     },
     "execution_count": 11,
     "metadata": {},
     "output_type": "execute_result"
    }
   ],
   "source": [
    "df = pd.read_csv(train_time_series_path, dayfirst=True, \n",
    "    index_col=['Date'], parse_dates=['Date'])\n",
    "df.head()"
   ]
  },
  {
   "cell_type": "code",
   "execution_count": 12,
   "id": "c8e56fa5-8d75-4992-a54e-7d0480f033be",
   "metadata": {},
   "outputs": [
    {
     "data": {
      "text/plain": [
       "[<matplotlib.lines.Line2D at 0x7ff7e5c84250>]"
      ]
     },
     "execution_count": 12,
     "metadata": {},
     "output_type": "execute_result"
    },
    {
     "data": {
      "image/png": "[encoded data removed]",
      "text/plain": [
       "<Figure size 1728x1296 with 3 Axes>"
      ]
     },
     "metadata": {
      "needs_background": "light"
     },
     "output_type": "display_data"
    }
   ],
   "source": [
    "fig = plt.figure(figsize=(24, 18))\n",
    "ax1, ax2, ax3 = fig.subplots(3)\n",
    "ax1.set_title('HLAvg')\n",
    "ax1.set(xlabel='Date', ylabel='High-Low Average')\n",
    "ax1.plot(df['HLAvg'])\n",
    "ax2.set_title('MA')\n",
    "ax2.set(xlabel='Date', ylabel='MA')\n",
    "ax2.plot(df['MA'])\n",
    "ax3.set_title('Returns')\n",
    "ax3.set(xlabel='Date', ylabel='Returns')\n",
    "ax3.plot(df['Returns'])"
   ]
  },
  {
   "cell_type": "code",
   "execution_count": 13,
   "id": "4ce35cbf-477d-4148-a5c4-263824c526b9",
   "metadata": {},
   "outputs": [],
   "source": [
    "scaler = MinMaxScaler()\n",
    "train_values = scaler.fit_transform(df[['Returns']].values)"
   ]
  },
  {
   "cell_type": "code",
   "execution_count": null,
   "id": "e4343738-5419-4179-bafd-901da0bdbdf8",
   "metadata": {},
   "outputs": [],
   "source": [
    "fig = plt.figure(figsize=(24, 8))\n",
    "ax1 = fig.subplots(1)\n",
    "ax1.set_title('Returns MinMax Scaled')\n",
    "ax1.set(xlabel='Sample', ylabel='Scaled Returns')\n",
    "ax1.plot(train_values)"
   ]
  },
  {
   "cell_type": "code",
   "execution_count": 15,
   "id": "e8a7cff6-ca6a-491b-a7c8-9322d296c7a5",
   "metadata": {},
   "outputs": [
    {
     "name": "stdout",
     "output_type": "stream",
     "text": [
      "X (38624, 256, 1), y (38624, 1)\n"
     ]
    }
   ],
   "source": [
    "X, y = get_train(train_values, window_size)"
   ]
  },
  {
   "cell_type": "code",
   "execution_count": 16,
   "id": "773cec28-0c72-4de9-8b61-ef9b4bcc1d2c",
   "metadata": {},
   "outputs": [
    {
     "name": "stdout",
     "output_type": "stream",
     "text": [
      "X (4096, 256, 1), y (4096,)\n"
     ]
    }
   ],
   "source": [
    "df_val = pd.read_csv(validate_time_series_path, dayfirst = True, usecols=['Date','Returns'],\n",
    "    index_col=['Date'], parse_dates=['Date'])\n",
    "df_val['Scaled'] = scaler.transform(df_val[['Returns']].values)\n",
    "X_val, y_val = get_val(df_val['Scaled'].values, window_size)"
   ]
  },
  {
   "cell_type": "code",
   "execution_count": 17,
   "id": "6bb56ac2-46f2-466d-b108-e46636ccc01a",
   "metadata": {},
   "outputs": [
    {
     "name": "stdout",
     "output_type": "stream",
     "text": [
      "Model: \"sequential\"\n",
      "_________________________________________________________________\n",
      "Layer (type)                 Output Shape              Param #   \n",
      "=================================================================\n",
      "lstm (LSTM)                  (None, 76)                23712     \n",
      "_________________________________________________________________\n",
      "dropout (Dropout)            (None, 76)                0         \n",
      "_________________________________________________________________\n",
      "dense (Dense)                (None, 1)                 77        \n",
      "=================================================================\n",
      "Total params: 23,789\n",
      "Trainable params: 23,789\n",
      "Non-trainable params: 0\n",
      "_________________________________________________________________\n",
      "None\n"
     ]
    },
    {
     "name": "stderr",
     "output_type": "stream",
     "text": [
      "2022-04-20 08:26:17.520814: I tensorflow/compiler/jit/xla_cpu_device.cc:41] Not creating XLA devices, tf_xla_enable_xla_devices not set\n",
      "2022-04-20 08:26:17.521426: I tensorflow/stream_executor/platform/default/dso_loader.cc:49] Successfully opened dynamic library libcuda.so.1\n",
      "2022-04-20 08:26:17.544963: I tensorflow/stream_executor/cuda/cuda_gpu_executor.cc:941] successful NUMA node read from SysFS had negative value (-1), but there must be at least one NUMA node, so returning NUMA node zero\n",
      "2022-04-20 08:26:17.545303: I tensorflow/core/common_runtime/gpu/gpu_device.cc:1720] Found device 0 with properties: \n",
      "pciBusID: 0000:0a:00.0 name: NVIDIA GeForce RTX 2060 SUPER computeCapability: 7.5\n",
      "coreClock: 1.65GHz coreCount: 34 deviceMemorySize: 7.79GiB deviceMemoryBandwidth: 417.29GiB/s\n",
      "2022-04-20 08:26:17.545328: I tensorflow/stream_executor/platform/default/dso_loader.cc:49] Successfully opened dynamic library libcudart.so.11.0\n",
      "2022-04-20 08:26:17.547116: I tensorflow/stream_executor/platform/default/dso_loader.cc:49] Successfully opened dynamic library libcublas.so.11\n",
      "2022-04-20 08:26:17.547171: I tensorflow/stream_executor/platform/default/dso_loader.cc:49] Successfully opened dynamic library libcublasLt.so.11\n",
      "2022-04-20 08:26:17.547726: I tensorflow/stream_executor/platform/default/dso_loader.cc:49] Successfully opened dynamic library libcufft.so.10\n",
      "2022-04-20 08:26:17.547836: I tensorflow/stream_executor/platform/default/dso_loader.cc:49] Successfully opened dynamic library libcurand.so.10\n",
      "2022-04-20 08:26:17.547899: W tensorflow/stream_executor/platform/default/dso_loader.cc:60] Could not load dynamic library 'libcusolver.so.10'; dlerror: libcusolver.so.10: cannot open shared object file: No such file or directory\n",
      "2022-04-20 08:26:17.548115: I tensorflow/stream_executor/platform/default/dso_loader.cc:49] Successfully opened dynamic library libcusparse.so.11\n",
      "2022-04-20 08:26:17.548186: I tensorflow/stream_executor/platform/default/dso_loader.cc:49] Successfully opened dynamic library libcudnn.so.8\n",
      "2022-04-20 08:26:17.548191: W tensorflow/core/common_runtime/gpu/gpu_device.cc:1757] Cannot dlopen some GPU libraries. Please make sure the missing libraries mentioned above are installed properly if you would like to use GPU. Follow the guide at https://www.tensorflow.org/install/gpu for how to download and setup the required libraries for your platform.\n",
      "Skipping registering GPU devices...\n",
      "2022-04-20 08:26:17.548802: I tensorflow/compiler/jit/xla_gpu_device.cc:99] Not creating XLA devices, tf_xla_enable_xla_devices not set\n",
      "2022-04-20 08:26:17.548813: I tensorflow/core/common_runtime/gpu/gpu_device.cc:1261] Device interconnect StreamExecutor with strength 1 edge matrix:\n",
      "2022-04-20 08:26:17.548815: I tensorflow/core/common_runtime/gpu/gpu_device.cc:1267]      \n"
     ]
    }
   ],
   "source": [
    "model = Sequential()\n",
    "model.add(LSTM(76, input_shape=(X.shape[1], 1), return_sequences = False))\n",
    "model.add(Dropout(0.2))\n",
    "model.add(Dense(1))\n",
    "optimizer = tf.keras.optimizers.Adam(learning_rate=0.0001)\n",
    "model.compile(loss=\"mse\", optimizer=optimizer)\n",
    "\n",
    "print(model.summary())"
   ]
  },
  {
   "cell_type": "code",
   "execution_count": 18,
   "id": "95760c3d-9878-4e80-a61b-8bedd86d955f",
   "metadata": {},
   "outputs": [
    {
     "name": "stderr",
     "output_type": "stream",
     "text": [
      "2022-04-20 08:26:17.686838: I tensorflow/compiler/mlir/mlir_graph_optimization_pass.cc:116] None of the MLIR optimization passes are enabled (registered 2)\n",
      "2022-04-20 08:26:17.706976: I tensorflow/core/platform/profile_utils/cpu_utils.cc:112] CPU Frequency: 3793065000 Hz\n"
     ]
    },
    {
     "name": "stdout",
     "output_type": "stream",
     "text": [
      "Epoch 1/20\n",
      "1207/1207 [==============================] - 40s 33ms/step - loss: 0.0508 - val_loss: 0.0218\n",
      "Epoch 2/20\n",
      "1207/1207 [==============================] - 39s 33ms/step - loss: 0.0221 - val_loss: 0.0179\n",
      "Epoch 3/20\n",
      "1207/1207 [==============================] - 40s 33ms/step - loss: 0.0188 - val_loss: 0.0151\n",
      "Epoch 4/20\n",
      "1207/1207 [==============================] - 39s 33ms/step - loss: 0.0165 - val_loss: 0.0137\n",
      "Epoch 5/20\n",
      "1207/1207 [==============================] - 39s 32ms/step - loss: 0.0153 - val_loss: 0.0119\n",
      "Epoch 6/20\n",
      "1207/1207 [==============================] - 39s 32ms/step - loss: 0.0132 - val_loss: 0.0110\n",
      "Epoch 7/20\n",
      "1207/1207 [==============================] - 39s 32ms/step - loss: 0.0122 - val_loss: 0.0103\n",
      "Epoch 8/20\n",
      "1207/1207 [==============================] - 39s 32ms/step - loss: 0.0116 - val_loss: 0.0099\n",
      "Epoch 9/20\n",
      "1207/1207 [==============================] - 39s 32ms/step - loss: 0.0110 - val_loss: 0.0090\n",
      "Epoch 10/20\n",
      "1207/1207 [==============================] - 39s 32ms/step - loss: 0.0105 - val_loss: 0.0084\n",
      "Epoch 11/20\n",
      "1207/1207 [==============================] - 39s 32ms/step - loss: 0.0098 - val_loss: 0.0078\n",
      "Epoch 12/20\n",
      "1207/1207 [==============================] - 39s 32ms/step - loss: 0.0092 - val_loss: 0.0075\n",
      "Epoch 13/20\n",
      "1207/1207 [==============================] - 39s 32ms/step - loss: 0.0084 - val_loss: 0.0063\n",
      "Epoch 14/20\n",
      "1207/1207 [==============================] - 39s 32ms/step - loss: 0.0075 - val_loss: 0.0062\n",
      "Epoch 15/20\n",
      "1207/1207 [==============================] - 39s 32ms/step - loss: 0.0070 - val_loss: 0.0051\n",
      "Epoch 16/20\n",
      "1207/1207 [==============================] - 39s 32ms/step - loss: 0.0065 - val_loss: 0.0046\n",
      "Epoch 17/20\n",
      "1207/1207 [==============================] - 39s 32ms/step - loss: 0.0056 - val_loss: 0.0047\n",
      "Epoch 18/20\n",
      "1207/1207 [==============================] - 39s 32ms/step - loss: 0.0054 - val_loss: 0.0036\n",
      "Epoch 19/20\n",
      "1207/1207 [==============================] - 39s 32ms/step - loss: 0.0052 - val_loss: 0.0041\n",
      "Epoch 20/20\n",
      "1207/1207 [==============================] - 39s 32ms/step - loss: 0.0049 - val_loss: 0.0035\n"
     ]
    }
   ],
   "source": [
    "history = model.fit(X, y, validation_data=(X_val, y_val), epochs = epochs, batch_size = batch_size, shuffle=False, verbose = 1)"
   ]
  },
  {
   "cell_type": "code",
   "execution_count": 19,
   "id": "aba96247-226b-42e0-aba9-e7b1cee1d6f0",
   "metadata": {},
   "outputs": [
    {
     "name": "stderr",
     "output_type": "stream",
     "text": [
      "2022-04-20 08:39:22.123324: W tensorflow/python/util/util.cc:348] Sets are not currently considered sequences, but this may change in the future, so consider avoiding using them.\n",
      "WARNING:absl:Found untraced functions such as lstm_cell_layer_call_fn, lstm_cell_layer_call_and_return_conditional_losses, lstm_cell_layer_call_fn, lstm_cell_layer_call_and_return_conditional_losses, lstm_cell_layer_call_and_return_conditional_losses while saving (showing 5 of 5). These functions will not be directly callable after loading.\n",
      "WARNING:absl:Found untraced functions such as lstm_cell_layer_call_fn, lstm_cell_layer_call_and_return_conditional_losses, lstm_cell_layer_call_fn, lstm_cell_layer_call_and_return_conditional_losses, lstm_cell_layer_call_and_return_conditional_losses while saving (showing 5 of 5). These functions will not be directly callable after loading.\n"
     ]
    },
    {
     "name": "stdout",
     "output_type": "stream",
     "text": [
      "INFO:tensorflow:Assets written to: eurusd-32-256-2/assets\n"
     ]
    },
    {
     "name": "stderr",
     "output_type": "stream",
     "text": [
      "INFO:tensorflow:Assets written to: eurusd-32-256-2/assets\n"
     ]
    },
    {
     "data": {
      "text/plain": [
       "['eurusd-32-256-2.bin']"
      ]
     },
     "execution_count": 19,
     "metadata": {},
     "output_type": "execute_result"
    }
   ],
   "source": [
    "save_model(model, model_path)\n",
    "joblib.dump(scaler, scaler_path) "
   ]
  },
  {
   "cell_type": "code",
   "execution_count": 20,
   "id": "833bb7b9-1693-4382-aa50-a9b8e1f7803f",
   "metadata": {},
   "outputs": [
    {
     "data": {
      "text/plain": [
       "<matplotlib.legend.Legend at 0x7ff7e1eee1f0>"
      ]
     },
     "execution_count": 20,
     "metadata": {},
     "output_type": "execute_result"
    },
    {
     "data": {
      "image/png": "[encoded data removed]",
      "text/plain": [
       "<Figure size 864x576 with 1 Axes>"
      ]
     },
     "metadata": {
      "needs_background": "light"
     },
     "output_type": "display_data"
    }
   ],
   "source": [
    "fig = plt.figure(figsize=(12, 8))\n",
    "ax1 = fig.subplots(1)\n",
    "ax1.set_title('Model Loss')\n",
    "ax1.set(xlabel='Epoch', ylabel='Loss')\n",
    "ax1.plot(history.history['loss'][7:], label='Train Loss')\n",
    "ax1.plot(history.history['val_loss'][7:], label='Val Loss')\n",
    "ax1.legend()"
   ]
  },
  {
   "cell_type": "code",
   "execution_count": null,
   "id": "6588d072-e4b5-4014-a4c5-3c19777f3ff9",
   "metadata": {},
   "outputs": [],
   "source": []
  }
 ],
 "metadata": {
  "kernelspec": {
   "display_name": "Python 3 (ipykernel)",
   "language": "python",
   "name": "python3"
  },
  "language_info": {
   "codemirror_mode": {
    "name": "ipython",
    "version": 3
   },
   "file_extension": ".py",
   "mimetype": "text/x-python",
   "name": "python",
   "nbconvert_exporter": "python",
   "pygments_lexer": "ipython3",
   "version": "3.8.10"
  }
 },
 "nbformat": 4,
 "nbformat_minor": 5
}
