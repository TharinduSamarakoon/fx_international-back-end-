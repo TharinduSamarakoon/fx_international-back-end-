{
 "cells": [
  {
   "cell_type": "code",
   "execution_count": 4,
   "id": "e70580f7-5629-4350-b573-2277e6552b19",
   "metadata": {},
   "outputs": [],
   "source": [
    "import datetime\n",
    "import pandas as pd\n",
    "\n",
    "from urllib.request import Request, urlopen\n",
    "from bs4 import BeautifulSoup as bs"
   ]
  },
  {
   "cell_type": "code",
   "execution_count": 5,
   "id": "34f91205-1bc5-49fe-b02c-f0027bffd14c",
   "metadata": {},
   "outputs": [],
   "source": [
    "pages = 3\n",
    "news_list = []\n",
    "target_url = 'https://www.investing.com/news/forex-news/'\n",
    "output_csv = 'investing.csv'"
   ]
  },
  {
   "cell_type": "code",
   "execution_count": 6,
   "id": "e7e52137-5b43-44b4-9ecc-58b8cd386a3b",
   "metadata": {},
   "outputs": [],
   "source": [
    "for page_no in range(1, pages) :\n",
    "    url = target_url + str(page_no)\n",
    "\n",
    "    req = Request(url , headers={'User-Agent': 'Mozilla/5.0'})\n",
    "\n",
    "    webpage = urlopen(req).read()\n",
    "\n",
    "    soup = bs(webpage, \"html.parser\")\n",
    "\n",
    "    div_navigation = soup.find('div', id = 'paginationWrap')\n",
    "\n",
    "    navigation = div_navigation.find('div', class_ = 'sideDiv inlineblock text_align_lang_base_2').text\n",
    "\n",
    "    if len(navigation) != 1:\n",
    "\n",
    "        div = soup.find('div', class_= 'largeTitle')\n",
    "\n",
    "        now = datetime.datetime.now()\n",
    "        date = datetime.datetime\n",
    "\n",
    "        for news_div in div.find_all('div', class_= 'textDiv'):\n",
    "            news_title_a = news_div.find('a', class_ = 'title')\n",
    "            news_body    = news_div.find('p')\n",
    "            news_date    = news_div.find('span', class_ = 'date')\n",
    "            news_href    = news_title_a.get('href')\n",
    "\n",
    "            if news_date is not None:\n",
    "                news_date = news_date.text\n",
    "\n",
    "                if 'hours' in news_date:\n",
    "                    news_date = now.strftime(\"\\xa0-\\xa0%b %d, %Y\")\n",
    "                if 'hour' in news_date:\n",
    "                    news_date = now.strftime(\"\\xa0-\\xa0%b %d, %Y\")\n",
    "                if 'minutes' in news_date:\n",
    "                    news_date = now.strftime(\"\\xa0-\\xa0%b %d, %Y\")\n",
    "\n",
    "                if '-' in news_date:\n",
    "                    date_news_date = date.strptime(news_date, \"\\xa0-\\xa0%b %d, %Y\")\n",
    "\n",
    "                    news_list.append([page_no, date_news_date, news_title_a.text , news_body.text ])\n",
    "\n",
    "                news_dataset = pd.DataFrame(news_list, columns = ['page', 'date','title','body'] )\n",
    "                news_dataset[\"source\"] = \"investing\"\n",
    "        page_no += 1\n",
    "\n",
    "    else:\n",
    "        continue\n",
    "\n",
    "news_dataset.to_csv(output_csv, index = False)"
   ]
  },
  {
   "cell_type": "code",
   "execution_count": null,
   "id": "91dfd55a-16aa-4ae3-9af7-a59663554e9e",
   "metadata": {},
   "outputs": [],
   "source": []
  }
 ],
 "metadata": {
  "kernelspec": {
   "display_name": "Python 3 (ipykernel)",
   "language": "python",
   "name": "python3"
  },
  "language_info": {
   "codemirror_mode": {
    "name": "ipython",
    "version": 3
   },
   "file_extension": ".py",
   "mimetype": "text/x-python",
   "name": "python",
   "nbconvert_exporter": "python",
   "pygments_lexer": "ipython3",
   "version": "3.8.13"
  }
 },
 "nbformat": 4,
 "nbformat_minor": 5
}
